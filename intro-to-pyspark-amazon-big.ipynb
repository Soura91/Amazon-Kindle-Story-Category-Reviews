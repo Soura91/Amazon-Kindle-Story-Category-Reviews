{
 "cells": [
  {
   "cell_type": "code",
   "execution_count": 1,
   "metadata": {
    "scrolled": true
   },
   "outputs": [],
   "source": [
    "import sys\n",
    "import os\n",
    "\n",
    "sys.path.insert(0, '/usr/hdp/current/spark2-client/python')\n",
    "sys.path.insert(0, '/usr/hdp/current/spark2-client/python/lib/py4j-0.10.7-src.zip')\n",
    "\n",
    "os.environ['SPARK_HOME'] = '/usr/hdp/current/spark2-client/'\n",
    "os.environ['SPARK_CONF_DIR'] = '/etc/spark2/conf'\n",
    "os.environ['PYSPARK_PYTHON'] = '/opt/anaconda3/bin/python'\n",
    "\n",
    "import pyspark\n",
    "conf = pyspark.SparkConf()\n",
    "conf.setMaster(\"yarn\")\n",
    "conf.set(\"spark.driver.memory\",\"5g\")\n",
    "conf.set(\"spark.executor.instances\", \"7\")\n",
    "conf.set(\"spark.executor.memory\",\"40g\")\n",
    "conf.set(\"spark.executor.cores\",\"8\")\n",
    "\n",
    "sc = pyspark.SparkContext(conf=conf)"
   ]
  },
  {
   "cell_type": "code",
   "execution_count": 2,
   "metadata": {},
   "outputs": [
    {
     "data": {
      "text/html": [
       "\n",
       "        <div>\n",
       "            <p><b>SparkContext</b></p>\n",
       "\n",
       "            <p><a href=\"http://clnode225.clemson.cloudlab.us:4044\">Spark UI</a></p>\n",
       "\n",
       "            <dl>\n",
       "              <dt>Version</dt>\n",
       "                <dd><code>v2.3.1.3.0.1.0-187</code></dd>\n",
       "              <dt>Master</dt>\n",
       "                <dd><code>yarn</code></dd>\n",
       "              <dt>AppName</dt>\n",
       "                <dd><code>pyspark-shell</code></dd>\n",
       "            </dl>\n",
       "        </div>\n",
       "        "
      ],
      "text/plain": [
       "<SparkContext master=yarn appName=pyspark-shell>"
      ]
     },
     "execution_count": 2,
     "metadata": {},
     "output_type": "execute_result"
    }
   ],
   "source": [
    "sc"
   ]
  },
  {
   "cell_type": "code",
   "execution_count": 3,
   "metadata": {},
   "outputs": [
    {
     "name": "stdout",
     "output_type": "stream",
     "text": [
      "Found 6 items\r\n",
      "drwxr-xr-x   - fs926226 hadoop           0 2020-01-05 13:47 .sparkStaging\r\n",
      "-rw-r--r--   3 fs926226 hadoop       1.1 G 2020-01-03 14:26 Kindle_Store.json.gz\r\n",
      "drwxr-xr-x   - fs926226 hadoop           0 2020-01-02 14:12 apps\r\n",
      "drwxr-xr-x   - fs926226 hadoop           0 2020-01-02 14:12 data\r\n",
      "drwxr-xr-x   - fs926226 hadoop           0 2020-01-02 14:19 kindle-reviews\r\n",
      "-rw-r--r--   3 fs926226 hadoop      11.4 G 2020-01-03 14:52 meta_Kindle_Store.json.gz\r\n"
     ]
    }
   ],
   "source": [
    "!hdfs dfs -ls -h"
   ]
  },
  {
   "cell_type": "markdown",
   "metadata": {},
   "source": [
    "### Amazon Kindle Store Category Reviews\n",
    "\n",
    "Amazon kindle product reviews and ratings are a very important business. Customers on Amazon often make purchasing decisions based on those reviews, and a single bad review can cause a potential purchaser to reconsider.\n",
    "\n",
    "This is a subset of dataset of product reviews from Amazon Kindle Store category.\n",
    "\n",
    "This Dataset is an updated version of the Amazon review dataset released in 2014. As in the previous version, this dataset includes reviews (ratings, text, helpfulness votes), product metadata (descriptions, category information, price, brand, and image features), and links (also viewed/also bought graphs). In addition, this version provides the following features:\n",
    "More reviews:\n",
    "The total number of reviews is 233.1 million (142.8 million in 2014).\n",
    "Newer reviews:\n",
    "Current data includes reviews in the range May 1996 - Oct 2018.\n",
    "Each reviewer has at least 5 reviews and each product has at least 5 reviews in this dataset.\n",
    "\n",
    "The Contents of the dataset:\n",
    "\n",
    "•\tasin - ID of the product, like B000FA64PK , Amazon Standard Identification Number. The Amazon Standard     Identification Number (ASIN) is a 10-character alphanumeric unique identifier assigned by Amazon.com for product  identification.\n",
    "•\tvote - helpfulness rating of the review \n",
    "•\toverall - rating of the product. \n",
    "•\treviewText - text of the review (heading). \n",
    "•\treviewTime - time of the review (raw). \n",
    "•\treviewerID - ID of the reviewer, like A3SPTOKDG7WBLN \n",
    "•\treviewerName - name of the reviewer. \n",
    "•\tsummary - summary of the review (description). \n",
    "•\tunixReviewTime - unix timestamp.\n",
    "•\tStyle - Paperback /hardcover\n",
    "•\tverified - Amazon verified /not Verified\n",
    "\n",
    "Metadata file(more than 40gb) consists of information such as \n",
    "•\talso_buy, also_view, asin, brand, category, main_cat, details, price, rank, title\n",
    "\n",
    "From this dataset, several analyses are possible some of them are as follows:\n",
    "1.   Find the books which have the highest ratings over the years.\n",
    "2.   Find the unique books, reviewers and the ratings given by each reviewer.\n",
    "3.   The number of books read by each user.\n",
    "4.   The highest read book.\n",
    "5.   The data such as highest and the lowest ratings given by the customers can be used for sentimental analysis.\n",
    "6.   Find users who read the books most frequently and take the data to analyze which types of books people like to        read and make an important marketting decisions.\n",
    "7.   The number of books read every day/month/year.\n",
    "8.   Find the count and the respective category of books in Amazon Kindle Store.\n",
    "8.   From every data many different analysis can be done and each information adds some value to the company's future      growth area."
   ]
  },
  {
   "cell_type": "markdown",
   "metadata": {},
   "source": [
    "## Task 1. Basic Computations\n",
    "- Content of the dataset\n",
    "- Reading the json file in sql sparkContext\n",
    "- Calculating the Unique Book ID's and the count\n",
    "- Calculating the Unique Reviewer ID's and the count\n",
    "- Calculating the Books with highest rating and the review count\n",
    "- Calculating the count and the % of the Amazon verified customers and Not Verified Customers"
   ]
  },
  {
   "cell_type": "code",
   "execution_count": 4,
   "metadata": {},
   "outputs": [],
   "source": [
    "rev = sc.textFile(\"Kindle_Store.json.gz\")"
   ]
  },
  {
   "cell_type": "raw",
   "metadata": {},
   "source": [
    "rev.cache()"
   ]
  },
  {
   "cell_type": "code",
   "execution_count": 5,
   "metadata": {},
   "outputs": [
    {
     "data": {
      "text/plain": [
       "['{\"overall\": 4.0, \"verified\": true, \"reviewTime\": \"12 29, 2012\", \"reviewerID\": \"A27UD5HYAKBL97\", \"asin\": \"1423600150\", \"style\": {\"Format:\": \" Hardcover\"}, \"reviewerName\": \"Cheryl\", \"reviewText\": \"If you like making salsas this is a great book with different ideas for party dips. I gave it as a gift.\", \"summary\": \"Great Book\", \"unixReviewTime\": 1356739200}',\n",
       " '{\"overall\": 5.0, \"vote\": \"3\", \"verified\": true, \"reviewTime\": \"03 6, 2012\", \"reviewerID\": \"A8P5DK8LLOYGH\", \"asin\": \"1423600150\", \"style\": {\"Format:\": \" Hardcover\"}, \"reviewerName\": \"Shay365\", \"reviewText\": \"great little book. simple and right to the point. A good basic Salsas and Tacos cooking guide.  I found it quite useful.\", \"summary\": \"great little book\", \"unixReviewTime\": 1330992000}',\n",
       " '{\"overall\": 5.0, \"verified\": true, \"reviewTime\": \"08 12, 2009\", \"reviewerID\": \"A3OM9W7DXSUIIY\", \"asin\": \"1423600150\", \"style\": {\"Format:\": \" Hardcover\"}, \"reviewerName\": \"R. Peckham\", \"reviewText\": \"This book has good pics of the recipes and easy to create them as well.\", \"summary\": \"very good bok with good ideas.\", \"unixReviewTime\": 1250035200}',\n",
       " '{\"overall\": 3.0, \"vote\": \"3\", \"verified\": false, \"reviewTime\": \"11 3, 2006\", \"reviewerID\": \"A3DPAR2PWB9BT8\", \"asin\": \"1423600150\", \"style\": {\"Format:\": \" Hardcover\"}, \"reviewerName\": \"JJSS\", \"reviewText\": \"I admire the SF School of Cooking, but was disappointed in this cookbook.\", \"summary\": \"Ok cookbook\", \"unixReviewTime\": 1162512000}']"
      ]
     },
     "execution_count": 5,
     "metadata": {},
     "output_type": "execute_result"
    }
   ],
   "source": [
    "rev.take(4)"
   ]
  },
  {
   "cell_type": "code",
   "execution_count": 6,
   "metadata": {},
   "outputs": [
    {
     "data": {
      "text/plain": [
       "<pyspark.sql.context.SQLContext at 0x7fbb7ee342d0>"
      ]
     },
     "execution_count": 6,
     "metadata": {},
     "output_type": "execute_result"
    }
   ],
   "source": [
    "sqlContext = pyspark.SQLContext(sc)\n",
    "sqlContext"
   ]
  },
  {
   "cell_type": "code",
   "execution_count": 7,
   "metadata": {},
   "outputs": [
    {
     "data": {
      "text/plain": [
       "DataFrame[asin: string, image: array<string>, overall: double, reviewText: string, reviewTime: string, reviewerID: string, reviewerName: string, style: struct<Format::string>, summary: string, unixReviewTime: bigint, verified: boolean, vote: string]"
      ]
     },
     "metadata": {},
     "output_type": "display_data"
    }
   ],
   "source": [
    "re = sqlContext.read.option(\"multiline\", \"true\").json(rev).cache()\n",
    "display(re)"
   ]
  },
  {
   "cell_type": "code",
   "execution_count": 8,
   "metadata": {},
   "outputs": [
    {
     "name": "stdout",
     "output_type": "stream",
     "text": [
      "root\n",
      " |-- asin: string (nullable = true)\n",
      " |-- image: array (nullable = true)\n",
      " |    |-- element: string (containsNull = true)\n",
      " |-- overall: double (nullable = true)\n",
      " |-- reviewText: string (nullable = true)\n",
      " |-- reviewTime: string (nullable = true)\n",
      " |-- reviewerID: string (nullable = true)\n",
      " |-- reviewerName: string (nullable = true)\n",
      " |-- style: struct (nullable = true)\n",
      " |    |-- Format:: string (nullable = true)\n",
      " |-- summary: string (nullable = true)\n",
      " |-- unixReviewTime: long (nullable = true)\n",
      " |-- verified: boolean (nullable = true)\n",
      " |-- vote: string (nullable = true)\n",
      "\n"
     ]
    }
   ],
   "source": [
    "re.printSchema()"
   ]
  },
  {
   "cell_type": "code",
   "execution_count": 9,
   "metadata": {},
   "outputs": [
    {
     "name": "stdout",
     "output_type": "stream",
     "text": [
      "CPU times: user 6.49 ms, sys: 3.92 ms, total: 10.4 ms\n",
      "Wall time: 1min 3s\n"
     ]
    },
    {
     "data": {
      "text/plain": [
       "5722988"
      ]
     },
     "execution_count": 9,
     "metadata": {},
     "output_type": "execute_result"
    }
   ],
   "source": [
    "%%time\n",
    "re.count()"
   ]
  },
  {
   "cell_type": "code",
   "execution_count": 10,
   "metadata": {},
   "outputs": [
    {
     "name": "stdout",
     "output_type": "stream",
     "text": [
      "+----------+-----+-------+--------------------+-----------+--------------+--------------------+-----------------+--------------------+--------------+--------+----+\n",
      "|      asin|image|overall|          reviewText| reviewTime|    reviewerID|        reviewerName|            style|             summary|unixReviewTime|verified|vote|\n",
      "+----------+-----+-------+--------------------+-----------+--------------+--------------------+-----------------+--------------------+--------------+--------+----+\n",
      "|1423600150| null|    4.0|If you like makin...|12 29, 2012|A27UD5HYAKBL97|              Cheryl|     [ Hardcover]|          Great Book|    1356739200|    true|null|\n",
      "|1423600150| null|    5.0|great little book...| 03 6, 2012| A8P5DK8LLOYGH|             Shay365|     [ Hardcover]|   great little book|    1330992000|    true|   3|\n",
      "|1423600150| null|    5.0|This book has goo...|08 12, 2009|A3OM9W7DXSUIIY|          R. Peckham|     [ Hardcover]|very good bok wit...|    1250035200|    true|null|\n",
      "|1423600150| null|    3.0|I admire the SF S...| 11 3, 2006|A3DPAR2PWB9BT8|                JJSS|     [ Hardcover]|         Ok cookbook|    1162512000|   false|   3|\n",
      "|1423600150| null|    5.0|Many people are s...|04 11, 2006|A2ONTBSAX7GIOV|Three Guys from M...|     [ Hardcover]|Fresh and Tasty I...|    1144713600|   false|  15|\n",
      "|1423600150| null|    5.0|                Yum!| 03 1, 2015|A2PRJSH8RLRB46|    William Yarberry|     [ Hardcover]|          Five Stars|    1425168000|   false|null|\n",
      "|1423600150| null|    5.0|          Excellent.|02 11, 2015|A2PP8CPXOFI5I6|Larry Occhipinti DVM|     [ Hardcover]|          Five Stars|    1423612800|    true|null|\n",
      "|1423600150| null|    5.0|Great recipes.  I...| 01 9, 2015|A3CWUPYGW55FUE|         Nell Bryant|     [ Hardcover]|Great recipes. I ...|    1420761600|    true|null|\n",
      "|1423600150| null|    5.0|Cannot recommend ...|12 19, 2014| ABMI85UTQ7WN5|     Edward A. Rubin|     [ Hardcover]|  Highly Recommended|    1418947200|    true|null|\n",
      "|1423600150| null|    5.0|For the salsa lov...|12 16, 2014|A24582E5Z79UT6|             Susan W|[ Kindle Edition]|          Five Stars|    1418688000|    true|null|\n",
      "+----------+-----+-------+--------------------+-----------+--------------+--------------------+-----------------+--------------------+--------------+--------+----+\n",
      "only showing top 10 rows\n",
      "\n"
     ]
    }
   ],
   "source": [
    "re.show(10)"
   ]
  },
  {
   "cell_type": "code",
   "execution_count": 11,
   "metadata": {},
   "outputs": [],
   "source": [
    "re.registerTempTable(\"reviews\")"
   ]
  },
  {
   "cell_type": "markdown",
   "metadata": {},
   "source": [
    "#### Calculating the Unique Book ID's and the count"
   ]
  },
  {
   "cell_type": "code",
   "execution_count": 12,
   "metadata": {},
   "outputs": [],
   "source": [
    "uniqueproductsid = sqlContext.sql(\"SELECT  asin AS Book_ID, COUNT(asin) AS REVIEWED_COUNT  \\\n",
    "                                FROM reviews where asin is not null GROUP BY asin ORDER BY count(asin) DESC\")\n",
    "\n"
   ]
  },
  {
   "cell_type": "code",
   "execution_count": 13,
   "metadata": {},
   "outputs": [
    {
     "data": {
      "text/plain": [
       "493849"
      ]
     },
     "execution_count": 13,
     "metadata": {},
     "output_type": "execute_result"
    }
   ],
   "source": [
    "uniqueproductsid.count()"
   ]
  },
  {
   "cell_type": "code",
   "execution_count": 14,
   "metadata": {},
   "outputs": [
    {
     "name": "stdout",
     "output_type": "stream",
     "text": [
      "+----------+--------------+\n",
      "|   Book_ID|REVIEWED_COUNT|\n",
      "+----------+--------------+\n",
      "|B00C2WDD5I|         15345|\n",
      "|B00YN6XHMU|         14568|\n",
      "|B00DMCV7K0|         12061|\n",
      "|B0142IHZPI|          9428|\n",
      "|B00XSSYR50|          8054|\n",
      "|B00WCD5GYS|          6458|\n",
      "|B00571F26Y|          6124|\n",
      "|B00ABLJ5X6|          5912|\n",
      "|B015BIHKH6|          5795|\n",
      "|B001BPYMCU|          5785|\n",
      "|B017R65QS0|          5367|\n",
      "|B006KWAKDE|          4650|\n",
      "|B00CATSONE|          4433|\n",
      "|B00GIUG3ES|          4362|\n",
      "|B01D6NM4VA|          4078|\n",
      "|B00IJYII4E|          3926|\n",
      "|B018SCGDWK|          3922|\n",
      "|B00EFWU91E|          3767|\n",
      "|B00EOARZ4G|          3753|\n",
      "|B012P4ZORW|          3514|\n",
      "+----------+--------------+\n",
      "only showing top 20 rows\n",
      "\n"
     ]
    }
   ],
   "source": [
    "uniqueproductsid.show(20)"
   ]
  },
  {
   "cell_type": "markdown",
   "metadata": {},
   "source": [
    "#### Calculating the Unique Reviewer ID's and the count"
   ]
  },
  {
   "cell_type": "code",
   "execution_count": 15,
   "metadata": {},
   "outputs": [
    {
     "data": {
      "text/plain": [
       "2409262"
      ]
     },
     "execution_count": 15,
     "metadata": {},
     "output_type": "execute_result"
    }
   ],
   "source": [
    "uniquereviewersid = sqlContext.sql(\"SELECT reviewerID AS USERID, COUNT(reviewerID) AS NUM_OF_BOOKS \\\n",
    "                                FROM reviews where reviewerID like 'A%' GROUP BY reviewerID ORDER BY NUM_OF_BOOKS DESC\")\n",
    "uniquereviewersid.count()"
   ]
  },
  {
   "cell_type": "code",
   "execution_count": 16,
   "metadata": {},
   "outputs": [
    {
     "name": "stdout",
     "output_type": "stream",
     "text": [
      "+--------------+------------+\n",
      "|        USERID|NUM_OF_BOOKS|\n",
      "+--------------+------------+\n",
      "|A328S9RN3U5M68|        2031|\n",
      "|A13QTZ8CIMHHG4|        1606|\n",
      "|A1JLU5H1CCENWX|        1391|\n",
      "|A2W4Z0J9DFZFSR|        1184|\n",
      "|A1CIS4LOWYGZGA|        1080|\n",
      "|A3GWE80SUGORJD|        1016|\n",
      "| A2YJ8VP1SSHJ7|         948|\n",
      "|A37LY77Q2YPJVL|         946|\n",
      "| AOYBZI9248RXA|         932|\n",
      "|A2VXSQHJWZAQGY|         914|\n",
      "|A37BRR2L8PX3R2|         906|\n",
      "|A2AOG5TS7W6OXY|         877|\n",
      "| A320TMDV6KCFU|         863|\n",
      "|A2G5IFYYHFIQNB|         860|\n",
      "|A3L1Z0R3ZB2OFU|         852|\n",
      "|A2Z3DQ7P9JYRLG|         850|\n",
      "| AG63N054UPJH2|         845|\n",
      "|A28D20IM3BNAJ1|         837|\n",
      "|A16AL32R7ZZVXB|         813|\n",
      "|A1ESF76N9NLS0P|         800|\n",
      "+--------------+------------+\n",
      "only showing top 20 rows\n",
      "\n"
     ]
    }
   ],
   "source": [
    "uniquereviewersid.show()"
   ]
  },
  {
   "cell_type": "markdown",
   "metadata": {},
   "source": [
    "#### Calculating the Books with highest rating and the review count"
   ]
  },
  {
   "cell_type": "code",
   "execution_count": 17,
   "metadata": {},
   "outputs": [
    {
     "name": "stdout",
     "output_type": "stream",
     "text": [
      "+----------+--------------+------+\n",
      "|   BOOK_ID|REVIEWED_COUNT|RATING|\n",
      "+----------+--------------+------+\n",
      "|B00YN6XHMU|          9383|   5.0|\n",
      "|B00DMCV7K0|          8953|   5.0|\n",
      "|B00C2WDD5I|          7036|   5.0|\n",
      "|B00XSSYR50|          6630|   5.0|\n",
      "|B0142IHZPI|          5843|   5.0|\n",
      "|B001BPYMCU|          4638|   5.0|\n",
      "|B017R65QS0|          4092|   5.0|\n",
      "|B00571F26Y|          4078|   5.0|\n",
      "|B00WCD5GYS|          3783|   5.0|\n",
      "|B015BIHKH6|          3294|   5.0|\n",
      "|B00ABLJ5X6|          3262|   5.0|\n",
      "|B00GIUG3ES|          3149|   5.0|\n",
      "|B00EFWU91E|          3069|   5.0|\n",
      "|B006KWAKDE|          3044|   5.0|\n",
      "|B00EFWU9QY|          2991|   5.0|\n",
      "|B00ESJ3S94|          2912|   5.0|\n",
      "|B01D6NM4VA|          2607|   5.0|\n",
      "|B012P4ZORW|          2453|   5.0|\n",
      "|B00IJYII4E|          2388|   5.0|\n",
      "|B017H8DIBK|          2373|   5.0|\n",
      "+----------+--------------+------+\n",
      "only showing top 20 rows\n",
      "\n"
     ]
    }
   ],
   "source": [
    "highestrating = sqlContext.sql(\"SELECT  asin AS BOOK_ID, COUNT(asin) AS REVIEWED_COUNT,overall AS RATING \\\n",
    "                                FROM reviews where overall='5' GROUP BY overall,asin ORDER BY RATING, REVIEWED_COUNT DESC\")\n",
    "highestrating.show()"
   ]
  },
  {
   "cell_type": "markdown",
   "metadata": {},
   "source": [
    "#### Calculating the count and the % of the Amazon verified customers Vs Not Verified Customers"
   ]
  },
  {
   "cell_type": "code",
   "execution_count": 18,
   "metadata": {},
   "outputs": [
    {
     "name": "stdout",
     "output_type": "stream",
     "text": [
      "+--------+-----------------+-----------------+\n",
      "|verified|VERIFIED_PURCHASE| VERIFIED_PUR_PER|\n",
      "+--------+-----------------+-----------------+\n",
      "|    true|          4036164|70.52546676666105|\n",
      "|   false|          1686824|29.47453323333895|\n",
      "+--------+-----------------+-----------------+\n",
      "\n"
     ]
    }
   ],
   "source": [
    "verifiedpurchase = sqlContext.sql(\"SELECT verified , COUNT(*) AS VERIFIED_PURCHASE, (COUNT(*)*100)/5722988 AS VERIFIED_PUR_PER FROM reviews GROUP BY verified\")\n",
    "verifiedpurchase.show()"
   ]
  },
  {
   "cell_type": "markdown",
   "metadata": {},
   "source": [
    "## Task 2. Calculate the number of reviews every day/month/year"
   ]
  },
  {
   "cell_type": "code",
   "execution_count": 19,
   "metadata": {},
   "outputs": [
    {
     "name": "stdout",
     "output_type": "stream",
     "text": [
      "+----------+-----------+\n",
      "|      DATE|NUM_REVIEWS|\n",
      "+----------+-----------+\n",
      "|2015-02-19|      12301|\n",
      "|2016-03-28|      11457|\n",
      "|2016-02-15|      10333|\n",
      "|2016-04-18|       8864|\n",
      "|2015-02-27|       8836|\n",
      "|2015-10-06|       8613|\n",
      "|2015-03-09|       8612|\n",
      "|2015-09-24|       8118|\n",
      "|2015-05-29|       8055|\n",
      "|2016-03-02|       8012|\n",
      "|2016-01-22|       7865|\n",
      "|2015-06-07|       7661|\n",
      "|2016-02-03|       7486|\n",
      "|2016-03-14|       7368|\n",
      "|2016-06-06|       7071|\n",
      "|2015-07-08|       7069|\n",
      "|2015-03-17|       6965|\n",
      "|2016-02-26|       6695|\n",
      "|2016-07-14|       6637|\n",
      "|2014-09-30|       6592|\n",
      "+----------+-----------+\n",
      "only showing top 20 rows\n",
      "\n"
     ]
    }
   ],
   "source": [
    "date= sqlContext.sql(\"SELECT from_unixtime(unixReviewTime,'YYYY-MM-dd') AS DATE, COUNT(*) AS NUM_REVIEWS FROM reviews\\\n",
    "                    WHERE unixReviewTime is not null GROUP BY DATE  ORDER BY NUM_REVIEWS DESC\")\n",
    "\n",
    "date.show(20)"
   ]
  },
  {
   "cell_type": "code",
   "execution_count": 20,
   "metadata": {},
   "outputs": [
    {
     "name": "stdout",
     "output_type": "stream",
     "text": [
      "root\n",
      " |-- DATE: string (nullable = true)\n",
      " |-- NUM_REVIEWS: long (nullable = false)\n",
      "\n"
     ]
    }
   ],
   "source": [
    "date.registerTempTable(\"date_new\")\n",
    "date.printSchema()"
   ]
  },
  {
   "cell_type": "code",
   "execution_count": 21,
   "metadata": {},
   "outputs": [
    {
     "name": "stdout",
     "output_type": "stream",
     "text": [
      "+----+---------+------+\n",
      "|year|    month|values|\n",
      "+----+---------+------+\n",
      "|2018|  October|    11|\n",
      "|2018|    March| 31111|\n",
      "|2018|   August| 14370|\n",
      "|2018|September|  4308|\n",
      "|2018|     July| 15892|\n",
      "|2018|    April| 27774|\n",
      "|2018| Feburary| 30676|\n",
      "|2018|  January| 36293|\n",
      "|2018|      May| 25597|\n",
      "|2018|     June| 26381|\n",
      "|2018| December|  1141|\n",
      "|2017|    April| 43889|\n",
      "|2017|September| 42601|\n",
      "|2017|     June| 33616|\n",
      "|2017|  January| 76292|\n",
      "|2017| Feburary| 46676|\n",
      "|2017| December| 29160|\n",
      "|2017|     July| 45643|\n",
      "|2017|   August| 50148|\n",
      "|2017| November| 30403|\n",
      "+----+---------+------+\n",
      "only showing top 20 rows\n",
      "\n"
     ]
    }
   ],
   "source": [
    "from pyspark.sql.types import StringType\n",
    "def displaymonth(s):\n",
    "    month_lst = ['January', 'Feburary', 'March', 'April', 'May', 'June', 'July', 'August', 'September', 'October', 'November', 'December']\n",
    "    mon = month_lst[(s%12)-1]\n",
    "    return mon\n",
    "\n",
    "sqlContext.udf.register(\"display_month\",displaymonth)\n",
    "\n",
    "month_mod = sqlContext.sql(\"SELECT YEAR(DATE) AS year , display_month(MONTH(DATE)) AS month ,SUM(NUM_REVIEWS) AS values \\\n",
    "                            FROM date_new GROUP BY MONTH(DATE),YEAR(DATE) ORDER BY year DESC\")\n",
    "month_mod.show(20)\n"
   ]
  },
  {
   "cell_type": "markdown",
   "metadata": {},
   "source": [
    "## Task 3 Below are the Ratings and respective % of the people who rated Amazon Kindle books\n",
    "\n",
    "- Example 60% of people have given Rating as 5"
   ]
  },
  {
   "cell_type": "code",
   "execution_count": 22,
   "metadata": {},
   "outputs": [
    {
     "name": "stdout",
     "output_type": "stream",
     "text": [
      "+------+--------------------+\n",
      "|RATING|         REVIEW_PERC|\n",
      "+------+--------------------+\n",
      "|   5.0|   60.80355227024764|\n",
      "|   4.0|  21.878588597424983|\n",
      "|   3.0|   8.746864400204927|\n",
      "|   2.0|  3.8615142998727237|\n",
      "|   1.0|   4.709462958859953|\n",
      "|   0.0|1.747338977471209E-5|\n",
      "+------+--------------------+\n",
      "\n"
     ]
    }
   ],
   "source": [
    "rating_per = sqlContext.sql(\"SELECT  overall  AS RATING, (COUNT(*)*100/5722988) AS REVIEW_PERC\\\n",
    "                                FROM reviews where overall is not null GROUP BY overall ORDER BY RATING DESC\")\n",
    "rating_per.show()"
   ]
  },
  {
   "cell_type": "markdown",
   "metadata": {},
   "source": [
    "## Task 4 User Interactive Analysis from the dataset\n",
    "- If the user enters the BOOK ID(Product ID -asin), Rating of the book and the respective summary of the book will be displayed "
   ]
  },
  {
   "cell_type": "code",
   "execution_count": 23,
   "metadata": {},
   "outputs": [
    {
     "name": "stdout",
     "output_type": "stream",
     "text": [
      "Enter the book id :B00YN6XHMU\n",
      "+-------+--------------------+--------------------+\n",
      "|overall|          reviewText|             summary|\n",
      "+-------+--------------------+--------------------+\n",
      "|    5.0|    Love this series|             Awesome|\n",
      "|    5.0|Having read the f...|          Important!|\n",
      "|    5.0|Very good read .....|      Very good read|\n",
      "|    5.0|As usual another ...|Stop reading revi...|\n",
      "|    5.0|these books are a...|    love these books|\n",
      "|    5.0|A lot of FSOG fan...|A nice treat whil...|\n",
      "|    5.0|Continuing the st...|                Yum.|\n",
      "|    5.0|Grey ends on a ve...|I hope that James...|\n",
      "|    5.0|The movies were a...| Love love this book|\n",
      "|    5.0|I loved this whol...|        True Romance|\n",
      "+-------+--------------------+--------------------+\n",
      "only showing top 10 rows\n",
      "\n"
     ]
    }
   ],
   "source": [
    "bookid = input(\"Enter the book id :\")\n",
    "bookdetails = sqlContext.sql(\"SELECT overall, reviewText, summary FROM reviews WHERE asin='%s' ORDER BY overall DESC\" %bookid)\n",
    "bookdetails.show(10)"
   ]
  },
  {
   "cell_type": "code",
   "execution_count": 24,
   "metadata": {},
   "outputs": [
    {
     "name": "stdout",
     "output_type": "stream",
     "text": [
      "Enter the reviewer id :A1JLU5H1CCENWX\n",
      "+----------+-----------+----------+\n",
      "|      asin| reviewTime|   summary|\n",
      "+----------+-----------+----------+\n",
      "|B001892DGG| 11 3, 2013|       Max|\n",
      "|B001CN45ZA| 11 3, 2013|     Simon|\n",
      "|B0026OQYYO| 11 3, 2013|      Rick|\n",
      "|B002A4MICW| 11 3, 2013|    Adrian|\n",
      "|B002VFPS9A| 11 3, 2013|      Gabe|\n",
      "|B0043GX2FW|12 14, 2013|     Jesse|\n",
      "|B004OA5ZTS|01 29, 2014|      Alex|\n",
      "|B004XW3LLQ|06 22, 2013|Luke stark|\n",
      "|B0052ZAV9S| 08 1, 2013|    Travis|\n",
      "|B0055OPM4U|09 28, 2014|     Valor|\n",
      "+----------+-----------+----------+\n",
      "only showing top 10 rows\n",
      "\n"
     ]
    }
   ],
   "source": [
    "reviewer_id = input(\"Enter the reviewer id :\")\n",
    "reviewdetails = sqlContext.sql(\"SELECT asin,reviewTime,summary FROM reviews WHERE reviewerID='%s'\" %reviewer_id)\n",
    "reviewdetails.show(10)"
   ]
  },
  {
   "cell_type": "markdown",
   "metadata": {},
   "source": [
    "## Task 5 - Reading and Tasks with MetaData - using join"
   ]
  },
  {
   "cell_type": "code",
   "execution_count": 25,
   "metadata": {},
   "outputs": [],
   "source": [
    "rem_rdd = sc.textFile(\"meta_Kindle_Store.json.gz\")"
   ]
  },
  {
   "cell_type": "code",
   "execution_count": 26,
   "metadata": {},
   "outputs": [
    {
     "data": {
      "text/plain": [
       "meta_Kindle_Store.json.gz MapPartitionsRDD[150] at textFile at NativeMethodAccessorImpl.java:0"
      ]
     },
     "execution_count": 26,
     "metadata": {},
     "output_type": "execute_result"
    }
   ],
   "source": [
    "rem_rdd.cache()"
   ]
  },
  {
   "cell_type": "code",
   "execution_count": 27,
   "metadata": {},
   "outputs": [],
   "source": [
    "rem_df = sqlContext.read.option(\"multiline\", \"true\").json(rem_rdd).cache()"
   ]
  },
  {
   "cell_type": "code",
   "execution_count": 28,
   "metadata": {},
   "outputs": [
    {
     "name": "stdout",
     "output_type": "stream",
     "text": [
      "root\n",
      " |-- also_buy: array (nullable = true)\n",
      " |    |-- element: string (containsNull = true)\n",
      " |-- also_view: array (nullable = true)\n",
      " |    |-- element: string (containsNull = true)\n",
      " |-- asin: string (nullable = true)\n",
      " |-- brand: string (nullable = true)\n",
      " |-- category: array (nullable = true)\n",
      " |    |-- element: string (containsNull = true)\n",
      " |-- details: string (nullable = true)\n",
      " |-- image: array (nullable = true)\n",
      " |    |-- element: string (containsNull = true)\n",
      " |-- main_cat: string (nullable = true)\n",
      " |-- price: string (nullable = true)\n",
      " |-- rank: string (nullable = true)\n",
      " |-- title: string (nullable = true)\n",
      "\n"
     ]
    }
   ],
   "source": [
    "rem_df.printSchema()\n"
   ]
  },
  {
   "cell_type": "code",
   "execution_count": 29,
   "metadata": {},
   "outputs": [
    {
     "name": "stdout",
     "output_type": "stream",
     "text": [
      "+--------------------+--------------------+----------+--------------------+--------------------+--------------------+-----+------------+-----+--------------------+-----+\n",
      "|            also_buy|           also_view|      asin|               brand|            category|             details|image|    main_cat|price|                rank|title|\n",
      "+--------------------+--------------------+----------+--------------------+--------------------+--------------------+-----+------------+-----+--------------------+-----+\n",
      "|                null|                null|0143065971|Visit Amazon's Ra...|[Kindle Store, Ki...|                null| null|Buy a Kindle| null|1,857,911PaidinKi...| null|\n",
      "|                null|[B010CKZO4E, B015...|1423600150|     Susan D. Curtis|[Kindle Store, Ki...|                null| null|Buy a Kindle| null|682,905PaidinKind...| null|\n",
      "|[B007NLCJBC, B01F...|[B000FBF81K, B00P...|B000FA5KKA|    Arthur K. Barnes|[Kindle Store, Ki...|\n",
      "  <div class=\"co...| null|Buy a Kindle| null|1,716,849PaidinKi...| null|\n",
      "|[B00AYWTHZS, B071...|        [B00AYWTHZS]|B000FA5M3K|Visit Amazon's Pa...|[Kindle Store, Ki...|\n",
      "  <div class=\"co...| null|Buy a Kindle| null|1,683,973PaidinKi...| null|\n",
      "|                null|                null|B000FA5KJQ|    Jean Marie Stine|[Kindle Store, Ki...|\n",
      "  <div class=\"co...| null|Buy a Kindle| null|3,394,136PaidinKi...| null|\n",
      "+--------------------+--------------------+----------+--------------------+--------------------+--------------------+-----+------------+-----+--------------------+-----+\n",
      "only showing top 5 rows\n",
      "\n"
     ]
    }
   ],
   "source": [
    "rem_df.show(5)"
   ]
  },
  {
   "cell_type": "code",
   "execution_count": 30,
   "metadata": {},
   "outputs": [
    {
     "data": {
      "text/plain": [
       "493859"
      ]
     },
     "execution_count": 30,
     "metadata": {},
     "output_type": "execute_result"
    }
   ],
   "source": [
    "rem_df.count()"
   ]
  },
  {
   "cell_type": "code",
   "execution_count": 31,
   "metadata": {},
   "outputs": [],
   "source": [
    "rem_df.registerTempTable(\"reviews_meta\")"
   ]
  },
  {
   "cell_type": "markdown",
   "metadata": {},
   "source": [
    "#### The data of the book ID , Books Purchased and the Books Viewed are as follows"
   ]
  },
  {
   "cell_type": "code",
   "execution_count": 37,
   "metadata": {},
   "outputs": [
    {
     "name": "stdout",
     "output_type": "stream",
     "text": [
      "+----------+--------------------+--------------------+\n",
      "|    BookID|     Books_Purchased|    View_Suggestions|\n",
      "+----------+--------------------+--------------------+\n",
      "|B000FA5KKA|[B007NLCJBC, B01F...|[B000FBF81K, B00P...|\n",
      "|B000FA5M3K|[B00AYWTHZS, B071...|        [B00AYWTHZS]|\n",
      "|B000FA5KX2|[B000SEGKF2, B004...|[B018LE1KUK, B000...|\n",
      "|B000FA64PK|[B000FA64QO, B005...|[B000FC1BN8, B005...|\n",
      "|B000FA5PV4|[B074YLWXKY, B076...|[B01HP8PICO, B000...|\n",
      "|B000FA65EK|[B000FC1A9I, B00F...|[B004N624O2, B000...|\n",
      "|B000FA671Q|[B003WJQ6LS, B001...|[B00D2DU5AW, B003...|\n",
      "|B000FA65ZY|[B00B7TD69U, B00M...|[B00B7TD69U, B00M...|\n",
      "|B000FA64QO|[B000FA64PK, B005...|[B000JMKNQ0, B000...|\n",
      "|B000FBFMHU|[B003F3PKW2, B008...|[B000FC1GOC, B000...|\n",
      "|B000FBFJ3W|[B00AQZAI9M, B005...|[B00E7VB3VS, B01L...|\n",
      "|B000FBFM1G|[B000FBFM4I, B000...|[B000FBFM4I, B07B...|\n",
      "|B000FBFMUM|[B072Q1KBRT, B00J...|[B01KUGTMQG, B004...|\n",
      "|B000FBFJNC|        [B073TJBYTB]|[B073RPMC4L, B001...|\n",
      "|B000FBFLPI|[B00J2DZIB2, B002...|[B0732Q2Y92, B00C...|\n",
      "|B000FBJBA4|[B000FC28UI, B000...|[B01ILZT6WI, B000...|\n",
      "|B000FBJFZ0|[B000FBJFYQ, B075...|        [B000FBJFYQ]|\n",
      "|B000FBJH80|[B000FC0QAM, B000...|[B000FC0QAW, B000...|\n",
      "|B000FBJFN2|[B000FC0PQM, B000...|[B000FC0TG8, B000...|\n",
      "|B000FBJHC6|[B000FC0R24, B000...|[B000FC0R24, B000...|\n",
      "+----------+--------------------+--------------------+\n",
      "only showing top 20 rows\n",
      "\n"
     ]
    }
   ],
   "source": [
    "Books_bought = sqlContext.sql(\"SELECT asin as BookID, also_buy AS Books_Purchased,also_view AS View_Suggestions \\\n",
    "                              FROM reviews_meta where asin is not null and also_buy is not null and also_view is not null \\\n",
    "                              and asin like 'B%'\")\n",
    "Books_bought.show()\n"
   ]
  },
  {
   "cell_type": "markdown",
   "metadata": {},
   "source": [
    "#### The data of the Book ID , Genre of the book and the count of the Books in the respective genre\n",
    "- Joined asin(Book ID ) from table reviews with Category of table reviews_meta"
   ]
  },
  {
   "cell_type": "code",
   "execution_count": 33,
   "metadata": {},
   "outputs": [
    {
     "name": "stdout",
     "output_type": "stream",
     "text": [
      "+----------+----------------------------+----------+\n",
      "|asin      |Book_Cat                    |BOOK_COUNT|\n",
      "+----------+----------------------------+----------+\n",
      "|B00C2WDD5I|Literature & Fiction        |15345     |\n",
      "|B00YN6XHMU|Literature & Fiction        |14568     |\n",
      "|B00DMCV7K0|Literature & Fiction        |12061     |\n",
      "|B0142IHZPI|Literature & Fiction        |9428      |\n",
      "|B00XSSYR50|Politics & Social Sciences  |8054      |\n",
      "|B00WCD5GYS|Arts & Photography          |6458      |\n",
      "|B00571F26Y|Health, Fitness & Dieting   |6124      |\n",
      "|B00ABLJ5X6|Mystery, Thriller & Suspense|5912      |\n",
      "|B015BIHKH6|Romance                     |5795      |\n",
      "|B001BPYMCU|Business & Money            |5785      |\n",
      "|B017R65QS0|Literature & Fiction        |5367      |\n",
      "|B006KWAKDE|Teen & Young Adult          |4650      |\n",
      "|B00CATSONE|Biographies & Memoirs       |4433      |\n",
      "|B00GIUG3ES|Science Fiction & Fantasy   |4362      |\n",
      "|B01D6NM4VA|Literature & Fiction        |4078      |\n",
      "|B00IJYII4E|Mystery, Thriller & Suspense|3926      |\n",
      "|B018SCGDWK|Literature & Fiction        |3922      |\n",
      "|B00EFWU91E|Teen & Young Adult          |3767      |\n",
      "|B00EOARZ4G|Literature & Fiction        |3753      |\n",
      "|B012P4ZORW|Literature & Fiction        |3514      |\n",
      "+----------+----------------------------+----------+\n",
      "only showing top 20 rows\n",
      "\n"
     ]
    }
   ],
   "source": [
    "cate = sqlContext.sql(\"SELECT r.asin , rm.category[2] AS Book_Cat , COUNT(*) AS BOOK_COUNT  FROM reviews_meta as rm INNER JOIN reviews as r \\\n",
    "                      ON rm.asin = r.asin WHERE r.asin like 'B%' GROUP BY r.asin ,rm.category[2] ORDER BY BOOK_COUNT DESC\")                      \n",
    "cate.show(truncate = False)\n"
   ]
  },
  {
   "cell_type": "markdown",
   "metadata": {},
   "source": [
    "#### Below are the count of the Books in each Genre(Category of the Book)\n",
    "- Joined asin(Book ID ) from table reviews with Category of table reviews_meta and display only the Category and the respective count of each category of Books in Amazon Kindle Store"
   ]
  },
  {
   "cell_type": "code",
   "execution_count": 35,
   "metadata": {},
   "outputs": [
    {
     "name": "stdout",
     "output_type": "stream",
     "text": [
      "+----------------------------+----------+\n",
      "|Book_Cat                    |BOOK_COUNT|\n",
      "+----------------------------+----------+\n",
      "|Literature & Fiction        |2190878   |\n",
      "|Romance                     |795983    |\n",
      "|Religion & Spirituality     |401463    |\n",
      "|Science Fiction & Fantasy   |370056    |\n",
      "|Mystery, Thriller & Suspense|318444    |\n",
      "|Children's eBooks           |220466    |\n",
      "|Health, Fitness & Dieting   |191341    |\n",
      "|Teen & Young Adult          |181305    |\n",
      "|Business & Money            |180389    |\n",
      "|Biographies & Memoirs       |96813     |\n",
      "|Cookbooks, Food & Wine      |90089     |\n",
      "|Humor & Entertainment       |77882     |\n",
      "|History                     |77074     |\n",
      "|Politics & Social Sciences  |60615     |\n",
      "|Arts & Photography          |46133     |\n",
      "|Sports & Outdoors           |44119     |\n",
      "|Education & Teaching        |41389     |\n",
      "|Crafts, Hobbies & Home      |41353     |\n",
      "|Computers & Technology      |35098     |\n",
      "|Reference                   |32341     |\n",
      "+----------------------------+----------+\n",
      "only showing top 20 rows\n",
      "\n"
     ]
    }
   ],
   "source": [
    "cat_genre = sqlContext.sql(\"SELECT rm.category[2] AS Book_Cat , COUNT(*) AS BOOK_COUNT  FROM reviews_meta as rm INNER JOIN reviews as r \\\n",
    "                      ON rm.asin = r.asin WHERE r.asin like 'B%' GROUP BY rm.category[2] ORDER BY BOOK_COUNT DESC\")                      \n",
    "cat_genre.show(truncate = False)"
   ]
  },
  {
   "cell_type": "code",
   "execution_count": 38,
   "metadata": {},
   "outputs": [],
   "source": [
    "sc.stop()"
   ]
  },
  {
   "cell_type": "code",
   "execution_count": null,
   "metadata": {},
   "outputs": [],
   "source": []
  }
 ],
 "metadata": {
  "kernelspec": {
   "display_name": "Python 3",
   "language": "python",
   "name": "python3"
  },
  "language_info": {
   "codemirror_mode": {
    "name": "ipython",
    "version": 3
   },
   "file_extension": ".py",
   "mimetype": "text/x-python",
   "name": "python",
   "nbconvert_exporter": "python",
   "pygments_lexer": "ipython3",
   "version": "3.7.4"
  }
 },
 "nbformat": 4,
 "nbformat_minor": 1
}
